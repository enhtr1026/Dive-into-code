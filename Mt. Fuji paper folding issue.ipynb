{
 "cells": [
  {
   "attachments": {},
   "cell_type": "markdown",
   "metadata": {},
   "source": [
    "How many times to fold paper to exceed the height of Mt.Fuji?\n",
    "\n",
    "Now \"Let's try using Python\" assignment, we will implement a program to calculate the thickness of a sheet of paper when folded 43 times, and confirmed that the paper would reach the moon if folded 43 times. Now, let's implement a program that calculates \"how many times to fold to get the desired thickness.\""
   ]
  },
  {
   "attachments": {},
   "cell_type": "markdown",
   "metadata": {},
   "source": [
    "[Problem 1] How many times to fold paper to exceed the height of Mt.Fuji?"
   ]
  },
  {
   "cell_type": "code",
   "execution_count": 15,
   "metadata": {},
   "outputs": [
    {
     "name": "stdout",
     "output_type": "stream",
     "text": [
      "26 time folded paper required\n"
     ]
    }
   ],
   "source": [
    "import math\n",
    "\n",
    "THICKNESS = 0.00008\n",
    "Fuji_h = 3776\n",
    "\n",
    "folded_value = math.log2(Fuji_h / THICKNESS)\n",
    "real_value = folded_value if folded_value == int(folded_value) else int(folded_value+1)\n",
    "print(\"{} time folded paper required\".format(real_value))\n"
   ]
  },
  {
   "attachments": {},
   "cell_type": "markdown",
   "metadata": {},
   "source": [
    "[Problem 2] Function corresponding to arbitrary thickness"
   ]
  },
  {
   "cell_type": "code",
   "execution_count": 16,
   "metadata": {},
   "outputs": [
    {
     "name": "stdout",
     "output_type": "stream",
     "text": [
      "16 min time folded paper required\n"
     ]
    }
   ],
   "source": [
    "def paper_folded_value(height):\n",
    "    THICKNESS = 0.00008\n",
    "    folded_value = math.log2(height/ THICKNESS)\n",
    "    real_value = folded_value if folded_value == int(folded_value) else int(folded_value+1)\n",
    "   # print(\"{} time folded paper required\".format( int(folded_value)))\n",
    "    return real_value\n",
    "\n",
    "height = 5\n",
    "print(\"{} min time folded paper required\".format( paper_folded_value(height)))\n"
   ]
  },
  {
   "attachments": {},
   "cell_type": "markdown",
   "metadata": {},
   "source": [
    "[Problem 3] Required paper length"
   ]
  },
  {
   "cell_type": "code",
   "execution_count": 17,
   "metadata": {},
   "outputs": [],
   "source": [
    "import math\n",
    "\n",
    "def paper_length(thickness, folds):\n",
    "    return math.pi * thickness * (2**folds + 4) * (2**folds - 1) / 6\n"
   ]
  },
  {
   "cell_type": "code",
   "execution_count": 18,
   "metadata": {},
   "outputs": [
    {
     "name": "stdout",
     "output_type": "stream",
     "text": [
      "Length of paper required to reach the Moon: 967108929679232860160.00 meters\n",
      "Length of paper required to reach Mt. Fuji: 93319549629.64 meters\n",
      "Length of paper required to reach Proxima Centauri: 1.05e+37 meters\n"
     ]
    }
   ],
   "source": [
    "moon_distance = 384400000  \n",
    "moon_thickness = 0.00008 \n",
    "moon_folds = math.log2(moon_distance / moon_thickness)  \n",
    "moon_length = paper_length(moon_thickness, moon_folds)\n",
    "print(f\"Length of paper required to reach the Moon: {moon_length:.2f} meters\")\n",
    "\n",
    "\n",
    "fuji_distance = 3776  \n",
    "fuji_thickness = 0.00008  \n",
    "fuji_folds = math.log2(fuji_distance / fuji_thickness) \n",
    "fuji_length = paper_length(fuji_thickness, fuji_folds)\n",
    "print(f\"Length of paper required to reach Mt. Fuji: {fuji_length:.2f} meters\")\n",
    "\n",
    "\n",
    "proxima_distance = 4.24 * 9.461e+15  \n",
    "proxima_thickness = 0.00008  \n",
    "proxima_folds = math.log2(proxima_distance / proxima_thickness) \n",
    "proxima_length = paper_length(proxima_thickness, proxima_folds)\n",
    "print(f\"Length of paper required to reach Proxima Centauri: {proxima_length:.2e} meters\")\n"
   ]
  },
  {
   "cell_type": "code",
   "execution_count": null,
   "metadata": {},
   "outputs": [],
   "source": []
  }
 ],
 "metadata": {
  "kernelspec": {
   "display_name": "base",
   "language": "python",
   "name": "python3"
  },
  "language_info": {
   "codemirror_mode": {
    "name": "ipython",
    "version": 3
   },
   "file_extension": ".py",
   "mimetype": "text/x-python",
   "name": "python",
   "nbconvert_exporter": "python",
   "pygments_lexer": "ipython3",
   "version": "3.9.13"
  },
  "orig_nbformat": 4,
  "vscode": {
   "interpreter": {
    "hash": "ad2bdc8ecc057115af97d19610ffacc2b4e99fae6737bb82f5d7fb13d2f2c186"
   }
  }
 },
 "nbformat": 4,
 "nbformat_minor": 2
}
