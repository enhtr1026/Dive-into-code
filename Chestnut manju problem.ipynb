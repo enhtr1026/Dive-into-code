{
 "cells": [
  {
   "attachments": {},
   "cell_type": "markdown",
   "metadata": {},
   "source": [
    "Chestnut manju problem"
   ]
  },
  {
   "cell_type": "markdown",
   "metadata": {},
   "source": [
    "[Problem] The day chestnut manju covers the solar system"
   ]
  },
  {
   "cell_type": "code",
   "execution_count": 17,
   "metadata": {},
   "outputs": [
    {
     "name": "stdout",
     "output_type": "stream",
     "text": [
      "680 minutes to fill the solar system with chestnut buns.\n",
      "87112285931760246646623899502532662132736 numbers chestnut buns \n"
     ]
    }
   ],
   "source": [
    "import math\n",
    " \n",
    "def chestnut_buns_num_time_to_fill(Size):\n",
    "    CHESTNUT_VOLUME = 10\n",
    "\n",
    "    num_chestnut_buns = 1\n",
    "    time_increment = 5\n",
    "    time_to_fill = 0\n",
    "    \n",
    "    while (CHESTNUT_VOLUME * num_chestnut_buns) < Size:\n",
    "        num_chestnut_buns *= 2\n",
    "        time_to_fill += time_increment\n",
    "    return time_to_fill,num_chestnut_buns\n",
    "\n",
    "SOLAR_SYSTEM_RADIUS = 50000000000\n",
    "SOLAR_SYSTEM_VOLUME = (4/3) * math.pi * (SOLAR_SYSTEM_RADIUS ** 3) * (10 ** 9)\n",
    "print(\"{} minutes to fill the solar system with chestnut buns.\".format( chestnut_buns_num_time_to_fill(SOLAR_SYSTEM_VOLUME)[0]))\n",
    "print(\"{} numbers chestnut buns \".format( chestnut_buns_num_time_to_fill(SOLAR_SYSTEM_VOLUME)[1]))\n"
   ]
  },
  {
   "cell_type": "markdown",
   "metadata": {},
   "source": []
  }
 ],
 "metadata": {
  "kernelspec": {
   "display_name": "base",
   "language": "python",
   "name": "python3"
  },
  "language_info": {
   "codemirror_mode": {
    "name": "ipython",
    "version": 3
   },
   "file_extension": ".py",
   "mimetype": "text/x-python",
   "name": "python",
   "nbconvert_exporter": "python",
   "pygments_lexer": "ipython3",
   "version": "3.9.13"
  },
  "orig_nbformat": 4
 },
 "nbformat": 4,
 "nbformat_minor": 2
}
